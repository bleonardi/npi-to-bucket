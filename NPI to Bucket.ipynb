{
 "cells": [
  {
   "cell_type": "code",
   "execution_count": 10,
   "metadata": {},
   "outputs": [
    {
     "name": "stdout",
     "output_type": "stream",
     "text": [
      "Enter the physician's NPI: 1114092335\n",
      "Loading...\n",
      "Not contained in any buckets\n"
     ]
    }
   ],
   "source": [
    "import pandas as pd\n",
    "import requests\n",
    "\n",
    "num = input(\"Enter the physician's NPI: \")\n",
    "# Returns JSON array with information about physician\n",
    "resp = requests.get(\"https://npiregistry.cms.hhs.gov/api/?number=\"+num+\"&enumeration_type=&taxonomy_description=&first_name=&last_name=&organization_name=&address_purpose=&city=&state=&postal_code=&country_code=&limit=&skip\")\n",
    "\n",
    "try:\n",
    "    resp.json()['results']\n",
    "except:\n",
    "    print(\"Invalid NPI\")\n",
    "else:\n",
    "    print(\"Loading...\")\n",
    "\n",
    "data = pd.io.json.json_normalize(resp.json()['results'], 'taxonomies')\n",
    "\n",
    "# Taxonomy Codes mapped to specific specialties\n",
    "anesth = [\"207L00000X\",\"207LA0401X\",\"207LC0200X\",\"207LH0002X\",\"207LP2900X\",\"207LP3000X\"]\n",
    "radiol = [\"2085B0100X\",\"2085D0003X\",\"2085H0002X\",\"2085N0700X\",\"2085N0904X\",\"2085P0229X\",\"2085R0001X\",\"2085R0202X\",\"2085R0203X\",\"2085R0204X\",\"2085R0205X\",\"2085U0001X\"]\n",
    "genprac = [\"208D00000X\"]\n",
    "\n",
    "code = data['code'].to_string(index = False)\n",
    "if code in anesth:\n",
    "    print(\"Anesthesiologist\")\n",
    "elif code in radiol:\n",
    "    print(\"Radiologist\")\n",
    "elif code in genprac:\n",
    "    print(\"General practitioner\")\n",
    "else:\n",
    "    print(\"Not bucketed\")"
   ]
  }
 ],
 "metadata": {
  "kernelspec": {
   "display_name": "Python 3",
   "language": "python",
   "name": "python3"
  },
  "language_info": {
   "codemirror_mode": {
    "name": "ipython",
    "version": 3
   },
   "file_extension": ".py",
   "mimetype": "text/x-python",
   "name": "python",
   "nbconvert_exporter": "python",
   "pygments_lexer": "ipython3",
   "version": "3.5.3"
  }
 },
 "nbformat": 4,
 "nbformat_minor": 2
}
