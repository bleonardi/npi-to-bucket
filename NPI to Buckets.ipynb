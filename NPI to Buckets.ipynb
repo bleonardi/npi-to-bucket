{
 "cells": [
  {
   "cell_type": "markdown",
   "metadata": {},
   "source": [
    "# NPI to Buckets\n",
    "This script pulls data from the *NPPES* (National Plan and Provider Enumeration System). Given a physician's NPI, it categorizes his/her specialty as one of the following: *anesthesiology*, *radiology*, *general practice*, or none of the previous buckets."
   ]
  },
  {
   "cell_type": "code",
   "execution_count": 23,
   "metadata": {},
   "outputs": [],
   "source": [
    "import pandas as pd\n",
    "import requests\n",
    "from sys import exit"
   ]
  },
  {
   "cell_type": "markdown",
   "metadata": {},
   "source": [
    "The following table displays each specialties' underlying taxonomy codes, used to categorize the physician."
   ]
  },
  {
   "cell_type": "code",
   "execution_count": 29,
   "metadata": {},
   "outputs": [
    {
     "data": {
      "text/plain": [
       "['PROVIDER TAXONOMY CODE',\n",
       " 'PROVIDER TYPE DESCRIPTION',\n",
       " 'CLASSIFICATION ',\n",
       " 'SPECIALIZATION']"
      ]
     },
     "execution_count": 29,
     "metadata": {},
     "output_type": "execute_result"
    }
   ],
   "source": [
    "taxonomy_codes = pd.read_excel(\"https://www.cms.gov/OpenPayments/Downloads/Physician-Taxonomy-Crosswalk.xlsx\", header = 3)\n",
    "taxonomy_codes"
   ]
  },
  {
   "cell_type": "code",
   "execution_count": 26,
   "metadata": {},
   "outputs": [
    {
     "name": "stdout",
     "output_type": "stream",
     "text": [
      "Enter the physician's NPI: 1538176961\n",
      "Loading...\n",
      "Anesthesiologist\n"
     ]
    }
   ],
   "source": [
    "num = input(\"Enter the physician's NPI: \")\n",
    "# Returns JSON array with information about physician\n",
    "resp = requests.get(\"https://npiregistry.cms.hhs.gov/api/?number=\"+num+\"&enumeration_type=&taxonomy_description=&first_name=&last_name=&organization_name=&address_purpose=&city=&state=&postal_code=&country_code=&limit=&skip\")\n",
    "\n",
    "try:\n",
    "    resp.json()['results']\n",
    "except:\n",
    "    print(\"Invalid NPI\")\n",
    "    exit()\n",
    "else:\n",
    "    print(\"Loading...\")\n",
    "\n",
    "data = pd.io.json.json_normalize(resp.json()['results'], 'taxonomies')\n",
    "\n",
    "# Taxonomy Codes mapped to specific specialties\n",
    "anesth = taxonomy_codes[taxonomy_codes[\"CLASSIFICATION \"] == \"Anesthesiology\"][\"PROVIDER TAXONOMY CODE\"].tolist()\n",
    "radiol = taxonomy_codes[taxonomy_codes[\"CLASSIFICATION \"] == \"Radiology\"][\"PROVIDER TAXONOMY CODE\"].tolist()\n",
    "genprac = taxonomy_codes[taxonomy_codes[\"CLASSIFICATION \"] == \"General Practice\"][\"PROVIDER TAXONOMY CODE\"].tolist()\n",
    "\n",
    "code = data['code'].to_string(index = False)\n",
    "if code in anesth:\n",
    "    print(\"Anesthesiologist\")\n",
    "elif code in radiol:\n",
    "    print(\"Radiologist\")\n",
    "elif code in genprac:\n",
    "    print(\"General practitioner\")\n",
    "else:\n",
    "    print(\"Not bucketed\")"
   ]
  }
 ],
 "metadata": {
  "kernelspec": {
   "display_name": "Python 3",
   "language": "python",
   "name": "python3"
  },
  "language_info": {
   "codemirror_mode": {
    "name": "ipython",
    "version": 3
   },
   "file_extension": ".py",
   "mimetype": "text/x-python",
   "name": "python",
   "nbconvert_exporter": "python",
   "pygments_lexer": "ipython3",
   "version": "3.5.3"
  }
 },
 "nbformat": 4,
 "nbformat_minor": 2
}
